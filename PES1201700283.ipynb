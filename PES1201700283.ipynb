{
 "cells": [
  {
   "cell_type": "code",
   "execution_count": 1,
   "metadata": {},
   "outputs": [],
   "source": [
    "import numpy as np\n",
    "import pandas as pd\n",
    "from matplotlib import pyplot as plt\n",
    "from sklearn.decomposition import PCA\n",
    "from sklearn.model_selection import KFold, cross_validate, cross_val_score, train_test_split"
   ]
  },
  {
   "cell_type": "code",
   "execution_count": 2,
   "metadata": {},
   "outputs": [],
   "source": [
    "dpsdf1 = pd.read_csv(\"cleaned_dataset.csv\")\n",
    "dpsdf1 = dpsdf1.drop(\"id\",1)\n",
    "dpsdf1data = dpsdf1[dpsdf1.columns[:-1]]\n",
    "dpsdf1class = dpsdf1[dpsdf1.columns[-1]]"
   ]
  },
  {
   "cell_type": "code",
   "execution_count": 3,
   "metadata": {},
   "outputs": [
    {
     "name": "stdout",
     "output_type": "stream",
     "text": [
      "Preserved Variance:  0.7623831402133541\n"
     ]
    }
   ],
   "source": [
    "pca = PCA(n_components=2, whiten=True).fit(dpsdf1data)\n",
    "dpsdf1data = pca.transform(dpsdf1data)\n",
    "print('Preserved Variance: ', sum(pca.explained_variance_ratio_))"
   ]
  },
  {
   "cell_type": "code",
   "execution_count": 4,
   "metadata": {},
   "outputs": [],
   "source": [
    "npdpsdf1data = np.array(dpsdf1data)\n",
    "npdpsdf1class = np.array(dpsdf1class)\n",
    "flag = 0"
   ]
  },
  {
   "cell_type": "code",
   "execution_count": 5,
   "metadata": {},
   "outputs": [],
   "source": [
    "if(flag == 0):\n",
    "    npdpsdf1class[npdpsdf1class < 3] = -1\n",
    "    npdpsdf1class[npdpsdf1class > 3] = 1\n",
    "    flag = 1\n",
    "# print(npdpsdf1class)"
   ]
  },
  {
   "cell_type": "code",
   "execution_count": 6,
   "metadata": {},
   "outputs": [],
   "source": [
    "dpsdata_train, dpsdata_test, dpsclass_train, dpsclass_test = train_test_split(npdpsdf1data, npdpsdf1class, test_size= .4,random_state=0)\n",
    "trainzeros = np.zeros((int(dpsdata_train.shape[0]),1))\n",
    "trainzeros.fill(-1)\n",
    "dpsdata_train = (np.append(dpsdata_train, trainzeros, axis=1))\n",
    "testzeros = np.zeros((int(dpsdata_test.shape[0]),1))\n",
    "testzeros.fill(-1)\n",
    "dpsdata_test = (np.append(dpsdata_test, testzeros, axis=1))"
   ]
  },
  {
   "cell_type": "code",
   "execution_count": 7,
   "metadata": {},
   "outputs": [],
   "source": [
    "class SVM():\n",
    "    def __init__(self, dpstraindata=0, dpstrainclass=0, dpstestdata=0, dpstestclass=0, weights=0, confusion=2, learning_rate=1, predicted=0, parameters=0):\n",
    "        self.confusionmat = [[0 for x in range(confusion)] for y in range(confusion)]\n",
    "        self.confusionmatset = 0\n",
    "        self.traindata = dpstraindata\n",
    "        self.trainclass = dpstrainclass\n",
    "        self.testdata = dpstestdata\n",
    "        self.testclass = dpstestclass\n",
    "        self.learning_rate = learning_rate\n",
    "        self.predicted = predicted\n",
    "        self.parameters = parameters\n",
    "        self.weights = weights\n",
    "        self.predictedsign = 0\n",
    "        \n",
    "    \n",
    "    def train(self, dpsdataparam=0, dpsclassparam=0, epochs=10000):\n",
    "        try:\n",
    "            if(dpsdataparam == 0):\n",
    "                pass\n",
    "            else:\n",
    "                self.traindata = dpsdataparam\n",
    "        except:\n",
    "            self.traindata = dpsdataparam\n",
    "            \n",
    "        try:\n",
    "            if(dpsclassparam == 0):\n",
    "                pass\n",
    "            else:\n",
    "                self.trainclass = dpsclassparam\n",
    "        except:\n",
    "            self.trainclass = dpsclassparam\n",
    "            \n",
    "        self.weights = np.zeros(3)\n",
    "        \n",
    "        learning_rate = 1\n",
    "        \n",
    "        for epoch in range(epochs):\n",
    "            \n",
    "            counter = 0\n",
    "            for i, j, k in self.traindata:\n",
    "                dotprod = np.dot(np.array([i,j, k]), self.weights)\n",
    "                \n",
    "                if(self.trainclass[counter] * dotprod < 1):\n",
    "                    self.weights = self.weights + learning_rate * ((self.trainclass[counter] * self.traindata[counter]) - (2 * (1/epochs) * self.weights))\n",
    "                    \n",
    "                else:\n",
    "                    self.weights = self.weights + learning_rate * (-2 * (1/epochs) * self.weights)\n",
    "                    \n",
    "                counter += 1\n",
    "\n",
    "        return self.weights\n",
    "\n",
    "    def predict(self, dpsdataparam=0, w=0):\n",
    "        try:\n",
    "            if(dpsdataparam == 0):\n",
    "                pass\n",
    "            else:\n",
    "                self.testdata = dpsdataparam\n",
    "        except:\n",
    "            self.testdata = dpsdataparam\n",
    "            \n",
    "        weights = w\n",
    "        \n",
    "        try:\n",
    "            if(w == 0):\n",
    "                print(\"Precomputed weights used\")\n",
    "                weights = self.weights\n",
    "                \n",
    "        except:\n",
    "            pass\n",
    "        \n",
    "        self.pred = list()\n",
    "        \n",
    "        for i, j, k in self.testdata:\n",
    "            self.pred.append(np.dot(np.array([i, j, k]), weights))\n",
    "        \n",
    "        return self.pred\n",
    "    \n",
    "    def computeconfusionmat(self, dpspredicted=0, dpsobserved=0):\n",
    "        self.predictedsign = np.sign(dpspredicted)\n",
    "        \n",
    "        try:\n",
    "            if(dpsobserved == 0):\n",
    "                pass\n",
    "            else:\n",
    "                self.testclass = dpsobserved\n",
    "        except:\n",
    "            self.testclass = dpsobserved\n",
    "        \n",
    "        for i in range(len(self.predicted)):\n",
    "            if(self.predictedsign[i] == self.testclass[i]):\n",
    "                if(self.testclass[i] == 1):\n",
    "                    self.confusionmat[1][1] += 1\n",
    "                else:\n",
    "                    self.confusionmat[0][0] += 1\n",
    "            else:\n",
    "                if(self.testclass[i] == 1):\n",
    "                    self.confusionmat[1][0] += 1\n",
    "                else:\n",
    "                    self.confusionmat[0][1] += 1\n",
    "        self.confusionmatset = 1\n",
    "        return self.confusionmat\n",
    "\n",
    "    def computeparameters(self):\n",
    "        if(self.confusionmatset != 1):\n",
    "            print(\"Please compute the Confusion Matrix\")\n",
    "            return -1\n",
    "        \n",
    "        TP = self.confusionmat[1][1]\n",
    "        TN = self.confusionmat[0][0]\n",
    "        FP = self.confusionmat[0][1]\n",
    "        FN = self.confusionmat[1][0]\n",
    "\n",
    "        self.parameters = [0 for i in range(4)]\n",
    "        # 1. Accuracy\n",
    "        # 2. Precision\n",
    "        # 3. Recall\n",
    "        # 4. Specificity\n",
    "        self.parameters[0] = (TP + TN)/(TP + TN + FP + FN)\n",
    "        self.parameters[1] = (TP) / (TP + FP)\n",
    "        self.parameters[2] = (TP) / (TP + FN)\n",
    "        self.parameters[3] = (TN) / (TN + FP)\n",
    "\n",
    "        return self.parameters\n",
    "\n",
    "    def printparams(self):    \n",
    "        self.parameters = self.computeparameters()\n",
    "        \n",
    "        try:\n",
    "            if(self.parameters == -1):\n",
    "                return -1\n",
    "        except:\n",
    "            pass\n",
    "        \n",
    "        print(\"Accuracy\\t : - \",self.parameters[0])\n",
    "        print(\"Precision\\t : - \",self.parameters[1])\n",
    "        print(\"Recall\\t\\t : - \",self.parameters[2])\n",
    "        print(\"Specificity\\t : - \",self.parameters[3])\n",
    "    \n",
    "    def accuracy(self, original=0, predicted=0, testdata=0):\n",
    "        try:\n",
    "            if(original == 0):\n",
    "                pass\n",
    "        \n",
    "        except:\n",
    "            self.testclass = original\n",
    "        \n",
    "        try:\n",
    "            if(predicted == 0):\n",
    "                pass\n",
    "            else:\n",
    "                self.predicted = predicted\n",
    "        except:\n",
    "            self.predicted = predicted\n",
    "            \n",
    "        \n",
    "        try:\n",
    "            if(testdata == 0):\n",
    "                pass\n",
    "        \n",
    "        except:\n",
    "            self.testdata = testdata\n",
    "        \n",
    "        try:\n",
    "            if(self.predicted == 0):\n",
    "                pass\n",
    "        \n",
    "        except:\n",
    "            self.predicted = self.predict(self.testdata)\n",
    "            \n",
    "        signedop = np.sign(self.predicted)\n",
    "        correct = np.sum(signedop == self.testclass)\n",
    "        return ((correct/len(signedop)*100))\n",
    "    "
   ]
  },
  {
   "cell_type": "code",
   "execution_count": 8,
   "metadata": {
    "scrolled": true
   },
   "outputs": [
    {
     "data": {
      "text/plain": [
       "array([ 1.45787807, -0.98677752,  0.24226383])"
      ]
     },
     "execution_count": 8,
     "metadata": {},
     "output_type": "execute_result"
    }
   ],
   "source": [
    "svmobj = SVM()\n",
    "weights = svmobj.train(dpsdata_train, dpsclass_train, epochs=20)\n",
    "weights"
   ]
  },
  {
   "cell_type": "code",
   "execution_count": 9,
   "metadata": {},
   "outputs": [],
   "source": [
    "predicted = svmobj.predict(dpsdata_test, weights)\n",
    "# predicted"
   ]
  },
  {
   "cell_type": "code",
   "execution_count": 10,
   "metadata": {},
   "outputs": [
    {
     "data": {
      "text/plain": [
       "91.42857142857143"
      ]
     },
     "execution_count": 10,
     "metadata": {},
     "output_type": "execute_result"
    }
   ],
   "source": [
    "accuracy = svmobj.accuracy(dpsclass_test, predicted)\n",
    "accuracy"
   ]
  },
  {
   "cell_type": "code",
   "execution_count": 11,
   "metadata": {},
   "outputs": [
    {
     "data": {
      "text/plain": [
       "[[170, 10], [14, 86]]"
      ]
     },
     "execution_count": 11,
     "metadata": {},
     "output_type": "execute_result"
    }
   ],
   "source": [
    "svmobj.computeconfusionmat(predicted, dpsclass_test)"
   ]
  },
  {
   "cell_type": "code",
   "execution_count": 12,
   "metadata": {},
   "outputs": [
    {
     "name": "stdout",
     "output_type": "stream",
     "text": [
      "Accuracy\t : -  0.9142857142857143\n",
      "Precision\t : -  0.8958333333333334\n",
      "Recall\t\t : -  0.86\n",
      "Specificity\t : -  0.9444444444444444\n"
     ]
    }
   ],
   "source": [
    "svmobj.printparams()"
   ]
  },
  {
   "cell_type": "code",
   "execution_count": 13,
   "metadata": {},
   "outputs": [
    {
     "data": {
      "image/png": "[encoded data removed]",
      "text/plain": [
       "<Figure size 432x288 with 1 Axes>"
      ]
     },
     "metadata": {
      "needs_background": "light"
     },
     "output_type": "display_data"
    }
   ],
   "source": [
    "counter = 0\n",
    "for i, j, k in dpsdata_test:\n",
    "    if(dpsclass_test[counter] == 1):\n",
    "        plt.scatter(i, j, s=120, marker='+', linewidths=2, color='red')\n",
    "    else:\n",
    "        plt.scatter(i, j, s=120, marker='_', linewidths=2, color='green')\n",
    "    counter += 1"
   ]
  },
  {
   "cell_type": "code",
   "execution_count": null,
   "metadata": {},
   "outputs": [],
   "source": []
  },
  {
   "cell_type": "code",
   "execution_count": null,
   "metadata": {},
   "outputs": [],
   "source": []
  },
  {
   "cell_type": "code",
   "execution_count": null,
   "metadata": {},
   "outputs": [],
   "source": []
  }
 ],
 "metadata": {
  "kernelspec": {
   "display_name": "Python 3",
   "language": "python",
   "name": "python3"
  },
  "language_info": {
   "codemirror_mode": {
    "name": "ipython",
    "version": 3
   },
   "file_extension": ".py",
   "mimetype": "text/x-python",
   "name": "python",
   "nbconvert_exporter": "python",
   "pygments_lexer": "ipython3",
   "version": "3.7.3"
  }
 },
 "nbformat": 4,
 "nbformat_minor": 2
}
