{
  "nbformat": 4,
  "nbformat_minor": 0,
  "metadata": {
    "colab": {
      "name": "final_implementation.ipynb",
      "provenance": [],
      "collapsed_sections": []
    },
    "kernelspec": {
      "name": "python3",
      "display_name": "Python 3"
    }
  },
  "cells": [
    {
      "cell_type": "code",
      "metadata": {
        "id": "NRe3mkM0O72l",
        "colab_type": "code",
        "colab": {}
      },
      "source": [
        "import pandas as pd\n",
        "from sklearn.model_selection import train_test_split\n",
        "from models import DecisionTreeClassifier\n",
        "from sklearn.model_selection import KFold\n",
        "\n",
        "# import this function from the models.py\n",
        "from sklearn.metrics import accuracy_score"
      ],
      "execution_count": 0,
      "outputs": []
    },
    {
      "cell_type": "code",
      "metadata": {
        "id": "lqyTxKwVPYHD",
        "colab_type": "code",
        "colab": {}
      },
      "source": [
        "df  = pd.read_csv(\"cleaned_dataset.csv\")\n",
        "data = df.drop([\"id\",\"class\"],axis=1)\n",
        "target = df[\"class\"]\n",
        "X_train, X_test, y_train, y_test = train_test_split(data,target, train_size = 0.3, random_state=42)"
      ],
      "execution_count": 0,
      "outputs": []
    },
    {
      "cell_type": "markdown",
      "metadata": {
        "id": "sjxLWQJAPd3e",
        "colab_type": "text"
      },
      "source": [
        "Decision Tree Classifier"
      ]
    },
    {
      "cell_type": "code",
      "metadata": {
        "id": "9FR5ha-3Pp3n",
        "colab_type": "code",
        "outputId": "de074a3e-a84e-4162-a8cd-0b82c1d8be5e",
        "colab": {
          "base_uri": "https://localhost:8080/",
          "height": 35
        }
      },
      "source": [
        "model_dt = DecisionTreeClassifier()\n",
        "model_dt.fit(X_train, y_train)\n",
        "y_pred_dt = model_dt.predict(X_test)\n",
        "print(\"The accuracy of Decision Tree Classifier:\",accuracy_score(y_test,y_pred_dt))"
      ],
      "execution_count": 0,
      "outputs": [
        {
          "output_type": "stream",
          "text": [
            "The accuracy of Decision Tree Classifier: 0.9136163982430454\n"
          ],
          "name": "stdout"
        }
      ]
    },
    {
      "cell_type": "code",
      "metadata": {
        "id": "LHaAmkdpZHjv",
        "colab_type": "code",
        "outputId": "3ddabb6e-2b62-41a3-ffb9-4560a7f09b31",
        "colab": {
          "base_uri": "https://localhost:8080/",
          "height": 217
        }
      },
      "source": [
        "y_pred_dt[:10]"
      ],
      "execution_count": 0,
      "outputs": [
        {
          "output_type": "execute_result",
          "data": {
            "text/plain": [
              "0    2\n",
              "1    2\n",
              "2    4\n",
              "3    4\n",
              "4    2\n",
              "5    2\n",
              "6    4\n",
              "7    2\n",
              "8    4\n",
              "9    2\n",
              "dtype: int64"
            ]
          },
          "metadata": {
            "tags": []
          },
          "execution_count": 31
        }
      ]
    },
    {
      "cell_type": "markdown",
      "metadata": {
        "id": "yyyQu6bcPtj9",
        "colab_type": "text"
      },
      "source": [
        "k-NN Classifier"
      ]
    },
    {
      "cell_type": "code",
      "metadata": {
        "id": "dMr0A7OLPvMj",
        "colab_type": "code",
        "colab": {}
      },
      "source": [
        ""
      ],
      "execution_count": 0,
      "outputs": []
    },
    {
      "cell_type": "markdown",
      "metadata": {
        "id": "-CO4stl2Pv5b",
        "colab_type": "text"
      },
      "source": [
        "SVM Classifier"
      ]
    },
    {
      "cell_type": "code",
      "metadata": {
        "id": "DiuBcYVXPxe3",
        "colab_type": "code",
        "colab": {}
      },
      "source": [
        ""
      ],
      "execution_count": 0,
      "outputs": []
    },
    {
      "cell_type": "markdown",
      "metadata": {
        "id": "JkCWzWcVY0i2",
        "colab_type": "text"
      },
      "source": [
        ""
      ]
    },
    {
      "cell_type": "code",
      "metadata": {
        "id": "sqeD3mydXIlI",
        "colab_type": "code",
        "colab": {}
      },
      "source": [
        "y_pred_all = []\n",
        "for i in range(len(y_test)):\n",
        "    y_pred_all.append(\n",
        "        mode([\n",
        "              y_pred_dt[i],\n",
        "              y_pred_knn[i],\n",
        "              y_pred_svm[i]\n",
        "        ])\n",
        "    )"
      ],
      "execution_count": 0,
      "outputs": []
    },
    {
      "cell_type": "markdown",
      "metadata": {
        "id": "sw4ICueuPyLR",
        "colab_type": "text"
      },
      "source": [
        "K-fold cross validiation"
      ]
    },
    {
      "cell_type": "code",
      "metadata": {
        "id": "bcCndmLtP30M",
        "colab_type": "code",
        "colab": {}
      },
      "source": [
        "kf = KFold(n_splits=6,shuffle=True)\n",
        "kf.get_n_splits(data)\n",
        "\n",
        "\n",
        "accuracy_all = {\n",
        "    'Decision_Tree':[],\n",
        "    'k-NN': [],\n",
        "    'SVM':[]\n",
        "}\n",
        "for train_index, test_index in kf.split(data):\n",
        "    X_train, X_test = data.iloc[train_index], data.iloc[test_index]\n",
        "    y_train, y_test = target.iloc[train_index], target.iloc[test_index]\n",
        "\n",
        "    model_dt = DecisionTreeClassifier()\n",
        "    model_dt.fit(X_train, y_train)\n",
        "    y_pred_dt = model_dt.predict(X_test)\n",
        "    y_acc_dt = accuracy_score(y_test,y_pred_dt)\n",
        "    accuracy_all['Decision_Tree'].append(y_acc_dt)\n",
        "\n",
        "    # model_knn = \n",
        "    # model_knn.fit(X_train, y_train)\n",
        "    # y_pred_knn = model_knn.predict(X_test)\n",
        "    # y_acc_knn = accuracy_score(y_test,y_pred_knn)\n",
        "    # accuracy_all['k-NN'].append(y_acc_knn)\n",
        "\n",
        "    # model_svm = \n",
        "    # model_svm.fit(X_train, y_train)\n",
        "    # y_pred_svm = model_svm.predict(X_test)\n",
        "    # y_acc_svm = accuracy_score(y_test,y_pred_svm)\n",
        "    # accuracy_all['SVM'].append(y_acc_svm)"
      ],
      "execution_count": 0,
      "outputs": []
    },
    {
      "cell_type": "code",
      "metadata": {
        "id": "hzHzGMmOQmIG",
        "colab_type": "code",
        "outputId": "67f931a4-6f6a-4ff2-e0fa-3877b6ede8ac",
        "colab": {
          "base_uri": "https://localhost:8080/",
          "height": 297
        }
      },
      "source": [
        "df_temp = pd.DataFrame(accuracy_all)\n",
        "df_temp = df_temp.reset_index()\n",
        "df_temp.plot(x='index', y=['Decision_Tree','k-NN','SVM'])"
      ],
      "execution_count": 0,
      "outputs": [
        {
          "output_type": "execute_result",
          "data": {
            "text/plain": [
              "<matplotlib.axes._subplots.AxesSubplot at 0x7f892c2118d0>"
            ]
          },
          "metadata": {
            "tags": []
          },
          "execution_count": 22
        },
        {
          "output_type": "display_data",
          "data": {
            "image/png": "[encoded data removed]",
            "text/plain": [
              "<Figure size 432x288 with 1 Axes>"
            ]
          },
          "metadata": {
            "tags": []
          }
        }
      ]
    },
    {
      "cell_type": "code",
      "metadata": {
        "id": "piQChJp3SL3i",
        "colab_type": "code",
        "colab": {}
      },
      "source": [
        ""
      ],
      "execution_count": 0,
      "outputs": []
    }
  ]
}