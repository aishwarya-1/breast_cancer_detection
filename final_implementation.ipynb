{
 "cells": [
  {
   "cell_type": "code",
   "execution_count": 1,
   "metadata": {},
   "outputs": [],
   "source": [
    "import pandas as pd\n",
    "import numpy as np\n",
    "from sklearn.model_selection import train_test_split\n",
    "from sklearn.model_selection import KFold\n",
    "from models import DecisionTreeClassifier\n",
    "from models import KNN\n",
    "from statistics import mode\n",
    "from sklearn.decomposition import PCA\n",
    "from SVM import SVM\n",
    "\n",
    "\n",
    "# import this function from the models.py\n",
    "from sklearn.metrics import accuracy_score"
   ]
  },
  {
   "cell_type": "code",
   "execution_count": 2,
   "metadata": {},
   "outputs": [],
   "source": [
    "df  = pd.read_csv(\"cleaned_dataset.csv\")\n",
    "data = df.drop([\"id\",\"class\"],axis=1)\n",
    "target = df[\"class\"]\n",
    "X_train, X_test, y_train, y_test = train_test_split(data,target, train_size = 0.3, random_state=42)"
   ]
  },
  {
   "cell_type": "markdown",
   "metadata": {
    "colab_type": "text",
    "id": "sjxLWQJAPd3e"
   },
   "source": [
    "Decision Tree Classifier"
   ]
  },
  {
   "cell_type": "code",
   "execution_count": 3,
   "metadata": {},
   "outputs": [
    {
     "name": "stdout",
     "output_type": "stream",
     "text": [
      "The accuracy of Decision Tree Classifier: 0.879591836735\n"
     ]
    }
   ],
   "source": [
    "model_dt = DecisionTreeClassifier()\n",
    "model_dt.fit(X_train, y_train)\n",
    "y_pred_dt = model_dt.predict(X_test)\n",
    "print(\"The accuracy of Decision Tree Classifier:\",accuracy_score(y_test,y_pred_dt))"
   ]
  },
  {
   "cell_type": "markdown",
   "metadata": {
    "colab_type": "text",
    "id": "yyyQu6bcPtj9"
   },
   "source": [
    "k-NN Classifier"
   ]
  },
  {
   "cell_type": "code",
   "execution_count": 4,
   "metadata": {},
   "outputs": [
    {
     "name": "stdout",
     "output_type": "stream",
     "text": [
      "The accuracy of KNN classifier is  96.3265306122449\n"
     ]
    }
   ],
   "source": [
    "knnobj = KNN(X_train.values.tolist(), y_train.values.tolist(), X_test.values.tolist(), y_test.values.tolist())\n",
    "print(\"The accuracy of KNN classifier is \",knnobj.knn_classifier())"
   ]
  },
  {
   "cell_type": "markdown",
   "metadata": {
    "colab_type": "text",
    "id": "-CO4stl2Pv5b"
   },
   "source": [
    "SVM Classifier"
   ]
  },
  {
   "cell_type": "code",
   "execution_count": 5,
   "metadata": {
    "colab": {},
    "colab_type": "code",
    "id": "DiuBcYVXPxe3"
   },
   "outputs": [
    {
     "name": "stdout",
     "output_type": "stream",
     "text": [
      "Preserved Variance:  0.762383140213\n",
      "The accuracy of KNN classifier is  94.2857142857\n"
     ]
    }
   ],
   "source": [
    "dpsdf1 = pd.read_csv(\"cleaned_dataset.csv\")\n",
    "dpsdf1 = dpsdf1.drop(\"id\",1)\n",
    "dpsdf1data = dpsdf1[dpsdf1.columns[:-1]]\n",
    "dpsdf1class = dpsdf1[dpsdf1.columns[-1]]\n",
    "\n",
    "pca = PCA(n_components=2, whiten=True).fit(dpsdf1data)\n",
    "dpsdf1data = pca.transform(dpsdf1data)\n",
    "print('Preserved Variance: ', sum(pca.explained_variance_ratio_))\n",
    "\n",
    "npdpsdf1data = np.array(dpsdf1data)\n",
    "adddatabias = np.zeros((int(npdpsdf1data.shape[0]),1))\n",
    "adddatabias.fill(-1)\n",
    "npdpsdf1data = (np.append(npdpsdf1data, adddatabias, axis=1))\n",
    "npdpsdf1class = np.array(dpsdf1class)\n",
    "flag = 0\n",
    "\n",
    "if(flag == 0):\n",
    "    npdpsdf1class[npdpsdf1class < 3] = -1\n",
    "    npdpsdf1class[npdpsdf1class > 3] = 1\n",
    "    flag = 1\n",
    "\n",
    "dpsdata_train, dpsdata_test, dpsclass_train, dpsclass_test = train_test_split(npdpsdf1data, npdpsdf1class, test_size= .4,random_state=0)\n",
    "\n",
    "\n",
    "svmobj = SVM()\n",
    "weights = svmobj.train(dpsdata_train, dpsclass_train, epochs=50)\n",
    "\n",
    "predicted = svmobj.predict(dpsdata_test, weights)\n",
    "\n",
    "svmaccuracy = svmobj.accuracy(dpsclass_test, predicted)\n",
    "print(\"The accuracy of KNN classifier is \",svmaccuracy)\n",
    "\n",
    "# svmobj.computeconfusionmat(predicted, dpsclass_test)\n",
    "\n",
    "# svmobj.printparams()\n",
    "\n",
    "# svmobj.KFOLDaccuracy(2, npdpsdf1data, npdpsdf1class)\n",
    "\n",
    "# svmobj.plothyperplane(dpsdata_test, dpsclass_test, weights=weights)\n",
    "\n"
   ]
  },
  {
   "cell_type": "markdown",
   "metadata": {
    "colab_type": "text",
    "id": "JkCWzWcVY0i2"
   },
   "source": []
  },
  {
   "cell_type": "code",
   "execution_count": 8,
   "metadata": {},
   "outputs": [],
   "source": [
    "# y_pred_all = []\n",
    "# for i in range(len(y_test)):\n",
    "#     y_pred_all.append(\n",
    "#         mode([\n",
    "#               y_pred_dt[i],\n",
    "#               y_pred_knn[i],\n",
    "#               y_pred_svm[i]\n",
    "#         ])\n",
    "#     )"
   ]
  },
  {
   "cell_type": "markdown",
   "metadata": {
    "colab_type": "text",
    "id": "sw4ICueuPyLR"
   },
   "source": [
    "K-fold cross validiation"
   ]
  },
  {
   "cell_type": "code",
   "execution_count": 6,
   "metadata": {},
   "outputs": [],
   "source": [
    "kf = KFold(n_splits=6,shuffle=True)\n",
    "kf.get_n_splits(data)\n",
    "\n",
    "\n",
    "accuracy_all = {\n",
    "    'Decision_Tree':[],\n",
    "    'k-NN': [],\n",
    "    # 'SVM':[]\n",
    "}\n",
    "for train_index, test_index in kf.split(data):\n",
    "    X_train, X_test = data.iloc[train_index], data.iloc[test_index]\n",
    "    y_train, y_test = target.iloc[train_index], target.iloc[test_index]\n",
    "\n",
    "    model_dt = DecisionTreeClassifier()\n",
    "    model_dt.fit(X_train, y_train)\n",
    "    y_pred_dt = model_dt.predict(X_test)\n",
    "    y_acc_dt = accuracy_score(y_test,y_pred_dt)\n",
    "    accuracy_all['Decision_Tree'].append(y_acc_dt*100)\n",
    "\n",
    "    # model_knn\n",
    "    knnobj = KNN(X_train.values.tolist(), y_train.values.tolist(), X_test.values.tolist(), y_test.values.tolist())\n",
    "    y_acc_knn = knnobj.knn_classifier()\n",
    "    y_pred_knn = knnobj.y_pred\n",
    "    accuracy_all['k-NN'].append(y_acc_knn)\n",
    "\n",
    "    # model_svm = \n",
    "    # model_svm.fit(X_train, y_train)\n",
    "    # y_pred_svm = model_svm.predict(X_test)\n",
    "    # y_acc_svm = accuracy_score(y_test,y_pred_svm)\n",
    "    # accuracy_all['SVM'].append(y_acc_svm)"
   ]
  },
  {
   "cell_type": "code",
   "execution_count": 7,
   "metadata": {},
   "outputs": [
    {
     "data": {
      "text/plain": [
       "<matplotlib.axes._subplots.AxesSubplot at 0x7f604adf8390>"
      ]
     },
     "execution_count": 7,
     "metadata": {},
     "output_type": "execute_result"
    },
    {
     "data": {
      "image/png": "[encoded data removed]",
      "text/plain": [
       "<Figure size 432x288 with 1 Axes>"
      ]
     },
     "metadata": {
      "needs_background": "light"
     },
     "output_type": "display_data"
    }
   ],
   "source": [
    "df_temp = pd.DataFrame(accuracy_all)\n",
    "df_temp = df_temp.reset_index()\n",
    "df_temp.plot(x='index', y=['Decision_Tree','k-NN'])"
   ]
  }
 ],
 "metadata": {
  "colab": {
   "collapsed_sections": [],
   "name": "final_implementation.ipynb",
   "provenance": []
  },
  "kernelspec": {
   "display_name": "Python 3",
   "language": "python",
   "name": "python3"
  },
  "language_info": {
   "codemirror_mode": {
    "name": "ipython",
    "version": 3
   },
   "file_extension": ".py",
   "mimetype": "text/x-python",
   "name": "python",
   "nbconvert_exporter": "python",
   "pygments_lexer": "ipython3",
   "version": "3.6.8"
  }
 },
 "nbformat": 4,
 "nbformat_minor": 1
}
