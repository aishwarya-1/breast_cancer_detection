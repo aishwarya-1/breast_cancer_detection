{
 "cells": [
  {
   "cell_type": "code",
   "execution_count": 1,
   "metadata": {
    "colab": {},
    "colab_type": "code",
    "id": "NRe3mkM0O72l"
   },
   "outputs": [],
   "source": [
    "import pandas as pd\n",
    "import numpy as np\n",
    "from sklearn.model_selection import train_test_split\n",
    "from models import DecisionTreeClassifier\n",
    "from sklearn.model_selection import KFold\n",
    "from sklearn.decomposition import PCA\n",
    "from KNN import KNN\n",
    "from SVM import SVM\n",
    "\n",
    "# import this function from the models.py\n",
    "from sklearn.metrics import accuracy_score"
   ]
  },
  {
   "cell_type": "code",
   "execution_count": 2,
   "metadata": {
    "colab": {},
    "colab_type": "code",
    "id": "lqyTxKwVPYHD"
   },
   "outputs": [],
   "source": [
    "df  = pd.read_csv(\"cleaned_dataset.csv\")\n",
    "data = df.drop([\"id\",\"class\"],axis=1)\n",
    "target = df[\"class\"]\n",
    "X_train, X_test, y_train, y_test = train_test_split(data,target, train_size = 0.3, random_state=42)"
   ]
  },
  {
   "cell_type": "markdown",
   "metadata": {
    "colab_type": "text",
    "id": "sjxLWQJAPd3e"
   },
   "source": [
    "Decision Tree Classifier"
   ]
  },
  {
   "cell_type": "code",
   "execution_count": 3,
   "metadata": {
    "colab": {
     "base_uri": "https://localhost:8080/",
     "height": 35
    },
    "colab_type": "code",
    "id": "9FR5ha-3Pp3n",
    "outputId": "de074a3e-a84e-4162-a8cd-0b82c1d8be5e"
   },
   "outputs": [
    {
     "name": "stdout",
     "output_type": "stream",
     "text": [
      "The accuracy of Decision Tree Classifier: 0.8795918367346939\n"
     ]
    }
   ],
   "source": [
    "model_dt = DecisionTreeClassifier()\n",
    "model_dt.fit(X_train, y_train)\n",
    "y_pred_dt = model_dt.predict(X_test)\n",
    "print(\"The accuracy of Decision Tree Classifier:\",accuracy_score(y_test,y_pred_dt))"
   ]
  },
  {
   "cell_type": "markdown",
   "metadata": {
    "colab_type": "text",
    "id": "yyyQu6bcPtj9"
   },
   "source": [
    "k-NN Classifier"
   ]
  },
  {
   "cell_type": "code",
   "execution_count": 4,
   "metadata": {
    "colab": {},
    "colab_type": "code",
    "id": "dMr0A7OLPvMj"
   },
   "outputs": [
    {
     "name": "stdout",
     "output_type": "stream",
     "text": [
      "The accuracy of KNN classifier is  96.3265306122449\n"
     ]
    }
   ],
   "source": [
    "knnobj = KNN(X_train.values.tolist(), y_train.values.tolist(), X_test.values.tolist(), y_test.values.tolist())\n",
    "print(\"The accuracy of KNN classifier is \",knnobj.knn_classifier())"
   ]
  },
  {
   "cell_type": "markdown",
   "metadata": {
    "colab_type": "text",
    "id": "-CO4stl2Pv5b"
   },
   "source": [
    "SVM Classifier"
   ]
  },
  {
   "cell_type": "code",
   "execution_count": 5,
   "metadata": {
    "colab": {},
    "colab_type": "code",
    "id": "DiuBcYVXPxe3"
   },
   "outputs": [
    {
     "name": "stdout",
     "output_type": "stream",
     "text": [
      "Preserved Variance:  0.7623831402133545\n"
     ]
    },
    {
     "data": {
      "text/plain": [
       "94.28571428571428"
      ]
     },
     "execution_count": 5,
     "metadata": {},
     "output_type": "execute_result"
    }
   ],
   "source": [
    "dpsdf1 = df\n",
    "dpsdf1 = dpsdf1.drop(\"id\",1)\n",
    "dpsdf1data = dpsdf1[dpsdf1.columns[:-1]]\n",
    "dpsdf1class = dpsdf1[dpsdf1.columns[-1]]\n",
    "\n",
    "pca = PCA(n_components=2, whiten=True).fit(dpsdf1data)\n",
    "dpsdf1data = pca.transform(dpsdf1data)\n",
    "print('Preserved Variance: ', sum(pca.explained_variance_ratio_))\n",
    "\n",
    "npdpsdf1data = np.array(dpsdf1data)\n",
    "adddatabias = np.zeros((int(npdpsdf1data.shape[0]),1))\n",
    "adddatabias.fill(-1)\n",
    "npdpsdf1data = (np.append(npdpsdf1data, adddatabias, axis=1))\n",
    "npdpsdf1class = np.array(dpsdf1class)\n",
    "flag = 0\n",
    "\n",
    "if(flag == 0):\n",
    "    npdpsdf1class[npdpsdf1class < 3] = -1\n",
    "    npdpsdf1class[npdpsdf1class > 3] = 1\n",
    "    flag = 1\n",
    "\n",
    "dpsdata_train, dpsdata_test, dpsclass_train, dpsclass_test = train_test_split(npdpsdf1data, npdpsdf1class, test_size= .4,random_state=0)\n",
    "\n",
    "svmobj = SVM()\n",
    "weights = svmobj.train(dpsdata_train, dpsclass_train, epochs=50)\n",
    "weights\n",
    "\n",
    "predicted = svmobj.predict(dpsdata_test, weights)\n",
    "\n",
    "accuracy = svmobj.accuracy(dpsclass_test, predicted)\n",
    "accuracy\n",
    "\n",
    "# svmobj.computeconfusionmat(predicted, dpsclass_test)\n",
    "\n",
    "# svmobj.printparams()\n",
    "\n",
    "# svmobj.KFOLDaccuracy(2, npdpsdf1data, npdpsdf1class)\n",
    "\n",
    "# svmobj.plothyperplane(dpsdata_test, dpsclass_test, weights=weights)"
   ]
  },
  {
   "cell_type": "markdown",
   "metadata": {
    "colab_type": "text",
    "id": "JkCWzWcVY0i2"
   },
   "source": []
  },
  {
   "cell_type": "code",
   "execution_count": null,
   "metadata": {
    "colab": {},
    "colab_type": "code",
    "id": "sqeD3mydXIlI"
   },
   "outputs": [],
   "source": [
    "y_pred_all = []\n",
    "for i in range(len(y_test)):\n",
    "    y_pred_all.append(\n",
    "        mode([\n",
    "              y_pred_dt[i],\n",
    "              y_pred_knn[i],\n",
    "              y_pred_svm[i]\n",
    "        ])\n",
    "    )"
   ]
  },
  {
   "cell_type": "markdown",
   "metadata": {
    "colab_type": "text",
    "id": "sw4ICueuPyLR"
   },
   "source": [
    "K-fold cross validiation"
   ]
  },
  {
   "cell_type": "code",
   "execution_count": 5,
   "metadata": {
    "colab": {},
    "colab_type": "code",
    "id": "bcCndmLtP30M"
   },
   "outputs": [],
   "source": [
    "kf = KFold(n_splits=6,shuffle=True)\n",
    "kf.get_n_splits(data)\n",
    "\n",
    "\n",
    "accuracy_all = {\n",
    "    'Decision_Tree':[],\n",
    "    'k-NN': [],\n",
    "    'SVM':[]\n",
    "}\n",
    "for train_index, test_index in kf.split(data):\n",
    "    X_train, X_test = data.iloc[train_index], data.iloc[test_index]\n",
    "    y_train, y_test = target.iloc[train_index], target.iloc[test_index]\n",
    "\n",
    "    model_dt = DecisionTreeClassifier()\n",
    "    model_dt.fit(X_train, y_train)\n",
    "    y_pred_dt = model_dt.predict(X_test)\n",
    "    y_acc_dt = accuracy_score(y_test,y_pred_dt)\n",
    "    accuracy_all['Decision_Tree'].append(y_acc_dt)\n",
    "\n",
    "    # model_knn\n",
    "    knnobj = KNN(X_train.values.tolist(), y_train.values.tolist(), X_test.values.tolist(), y_test.values.tolist())\n",
    "    y_acc_knn = knnobj.knn_classifier()\n",
    "    y_pred_knn = knnobj.y_pred\n",
    "    accuracy_all['k-NN'].append(y_acc_knn)\n",
    "\n",
    "    # model_svm = \n",
    "    # model_svm.fit(X_train, y_train)\n",
    "    # y_pred_svm = model_svm.predict(X_test)\n",
    "    # y_acc_svm = accuracy_score(y_test,y_pred_svm)\n",
    "    # accuracy_all['SVM'].append(y_acc_svm)"
   ]
  },
  {
   "cell_type": "code",
   "execution_count": null,
   "metadata": {
    "colab": {
     "base_uri": "https://localhost:8080/",
     "height": 297
    },
    "colab_type": "code",
    "id": "hzHzGMmOQmIG",
    "outputId": "67f931a4-6f6a-4ff2-e0fa-3877b6ede8ac"
   },
   "outputs": [],
   "source": [
    "df_temp = pd.DataFrame(accuracy_all)\n",
    "df_temp = df_temp.reset_index()\n",
    "df_temp.plot(x='index', y=['Decision_Tree','k-NN','SVM'])"
   ]
  },
  {
   "cell_type": "code",
   "execution_count": null,
   "metadata": {
    "colab": {},
    "colab_type": "code",
    "id": "piQChJp3SL3i"
   },
   "outputs": [],
   "source": []
  }
 ],
 "metadata": {
  "colab": {
   "collapsed_sections": [],
   "name": "final_implementation.ipynb",
   "provenance": []
  },
  "kernelspec": {
   "display_name": "Python 3",
   "language": "python",
   "name": "python3"
  },
  "language_info": {
   "codemirror_mode": {
    "name": "ipython",
    "version": 3
   },
   "file_extension": ".py",
   "mimetype": "text/x-python",
   "name": "python",
   "nbconvert_exporter": "python",
   "pygments_lexer": "ipython3",
   "version": "3.7.3"
  }
 },
 "nbformat": 4,
 "nbformat_minor": 1
}
