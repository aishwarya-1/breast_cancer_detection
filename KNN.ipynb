{
 "cells": [
  {
   "cell_type": "code",
   "execution_count": 1,
   "metadata": {},
   "outputs": [],
   "source": [
    "import numpy as np \n",
    "import pandas as pd\n",
    "import matplotlib.pyplot as plt\n",
    "import seaborn as sns\n",
    "from collections import Counter\n",
    "import math\n",
    "from sklearn.model_selection import KFold\n",
    "import statistics\n",
    "import itertools\n",
    "\n",
    "\n",
    "%matplotlib inline"
   ]
  },
  {
   "cell_type": "code",
   "execution_count": 2,
   "metadata": {},
   "outputs": [],
   "source": [
    "df = pd.read_csv('./cleaned_dataset.csv')"
   ]
  },
  {
   "cell_type": "code",
   "execution_count": 3,
   "metadata": {},
   "outputs": [],
   "source": [
    "df.to_csv('modified.csv', header=False, index=False)"
   ]
  },
  {
   "cell_type": "code",
   "execution_count": 4,
   "metadata": {},
   "outputs": [],
   "source": [
    "df = pd.read_csv('modified.csv', header=None)"
   ]
  },
  {
   "cell_type": "code",
   "execution_count": 5,
   "metadata": {},
   "outputs": [],
   "source": [
    "df = df.drop([0], axis=1)"
   ]
  },
  {
   "cell_type": "code",
   "execution_count": 6,
   "metadata": {},
   "outputs": [],
   "source": [
    "class KNN():\n",
    "    def __init__(self, traindata=0, trainclass=0, testdata=0, testclass=0, optimal_k=7):\n",
    "\n",
    "        self.X_train = traindata\n",
    "        self.y_train = trainclass\n",
    "        self.X_test = testdata\n",
    "        self.y_test = testclass\n",
    "        self.precision = 0\n",
    "        self.recall = 0\n",
    "        self.specificity = 0\n",
    "        self.y_pred = []\n",
    "        self.acc = 0\n",
    "        \n",
    "        self.k = optimal_k\n",
    "        \n",
    "    def compute_confusion_mat(self):\n",
    "        tp = 0\n",
    "        tn = 0\n",
    "        fp = 0\n",
    "        fn = 0\n",
    "        for i in range(len(self.y_test)):\n",
    "            if(self.y_test[i]==self.y_pred):\n",
    "                if(self.y_test[i]==2):\n",
    "                    tp += 1\n",
    "                else:\n",
    "                    tn += 1\n",
    "            else:\n",
    "                if(self.y_test[i]==2):\n",
    "                    fp += 1\n",
    "                else:\n",
    "                    fn += 1\n",
    "        \n",
    "        return [tp, fp, tn, fn]\n",
    "    \n",
    "    def params(self):\n",
    "        l = compute_confusion_mat()\n",
    "        self.precision = l[0]/(l[0]+l[1])\n",
    "        self.recall = l[0]/(l[0]+l[3])\n",
    "        self.specificity = (l[2]) / (l[2] + l[1])\n",
    "        \n",
    "        \n",
    "    def accuracy(self):\n",
    "        correct = 0\n",
    "        for i in range(len(self.y_test)):\n",
    "            if(self.y_test[i]==self.y_pred[i]):\n",
    "                correct = correct + 1\n",
    "        return (correct/len(self.y_test))*100\n",
    "    \n",
    "    def euclidean_distance(self, point1, point2):\n",
    "        sum_squared_distance = 0\n",
    "        for i in range(len(point1)):\n",
    "            sum_squared_distance += math.pow(point1[i] - point2[i], 2)\n",
    "        return math.sqrt(sum_squared_distance)  \n",
    "    \n",
    "    def mode(self, labels):\n",
    "        return Counter(labels).most_common(1)[0][0]\n",
    "    \n",
    "    def knn(self, query):\n",
    "        neighbor_distances_and_indices = []\n",
    "\n",
    "        for index, example in enumerate(self.X_train):\n",
    "            distance = self.euclidean_distance(example, query)\n",
    "            neighbor_distances_and_indices.append((distance, index))\n",
    "\n",
    "        sorted_neighbor_distances_and_indices = sorted(neighbor_distances_and_indices)\n",
    "\n",
    "        k_nearest_distances_and_indices = sorted_neighbor_distances_and_indices[:self.k]\n",
    "\n",
    "        k_nearest_labels = [self.y_train[i] for distance, i in k_nearest_distances_and_indices]\n",
    "\n",
    "        return self.mode(k_nearest_labels) \n",
    "    \n",
    "    def knn_classifier(self):\n",
    "        for i in self.X_test:\n",
    "            clf_prediction = self.knn(i)\n",
    "            self.y_pred.append(clf_prediction)\n",
    "            \n",
    "        self.acc = self.accuracy()\n",
    "\n",
    "        return self.acc"
   ]
  },
  {
   "cell_type": "code",
   "execution_count": 7,
   "metadata": {},
   "outputs": [],
   "source": [
    "def mean(acc):\n",
    "    sum = 0\n",
    "    for i in acc:\n",
    "        sum = sum + i\n",
    "    return sum/len(acc)"
   ]
  },
  {
   "cell_type": "code",
   "execution_count": 8,
   "metadata": {},
   "outputs": [],
   "source": [
    "def cross_validation_model(df, k=6):\n",
    "    \n",
    "    cv = []\n",
    "    \n",
    "    kf = KFold(6, True)\n",
    "    kf.get_n_splits(df)\n",
    "\n",
    "    X = np.array(df)\n",
    "\n",
    "    for train_index, test_index in kf.split(X):\n",
    "        X_train, X_test = X[train_index], X[test_index]\n",
    "        y_test = X_test[:, 9:]\n",
    "        X_test = X_test[:, :-1]\n",
    "        y_train = X_train[:, 9:]\n",
    "        X_train = X_train[:, :-1]\n",
    "\n",
    "        X_test = X_test.tolist()\n",
    "        X_train = X_train.tolist()\n",
    "        y_train = y_train.tolist()\n",
    "        y_test = y_test.tolist()\n",
    "\n",
    "        y_test = list(itertools.chain.from_iterable(y_test))\n",
    "        y_train = list(itertools.chain.from_iterable(y_train))\n",
    "        \n",
    "        knnobj = KNN(X_train, y_train, X_test, y_test, k)\n",
    "        \n",
    "        \n",
    "        cv.append(knnobj.knn_classifier())\n",
    "        \n",
    "    \n",
    "    return mean(cv)"
   ]
  },
  {
   "cell_type": "code",
   "execution_count": 9,
   "metadata": {},
   "outputs": [
    {
     "data": {
      "text/plain": [
       "96.42278219864426"
      ]
     },
     "execution_count": 9,
     "metadata": {},
     "output_type": "execute_result"
    }
   ],
   "source": [
    "cross_validation_model(df)"
   ]
  },
  {
   "cell_type": "code",
   "execution_count": 10,
   "metadata": {},
   "outputs": [],
   "source": [
    "optimal_k = []\n",
    "\n",
    "for k in range(1, 20):\n",
    "    optimal_k.append(100 - cross_validation_model(df, k))"
   ]
  },
  {
   "cell_type": "code",
   "execution_count": 11,
   "metadata": {},
   "outputs": [
    {
     "data": {
      "text/plain": [
       "[<matplotlib.lines.Line2D at 0x7f16b3fdd0b8>]"
      ]
     },
     "execution_count": 11,
     "metadata": {},
     "output_type": "execute_result"
    },
    {
     "data": {
      "image/png": "[encoded data removed]",
      "text/plain": [
       "<Figure size 432x288 with 1 Axes>"
      ]
     },
     "metadata": {
      "needs_background": "light"
     },
     "output_type": "display_data"
    }
   ],
   "source": [
    "plt.plot(optimal_k)"
   ]
  },
  {
   "cell_type": "code",
   "execution_count": 12,
   "metadata": {},
   "outputs": [],
   "source": [
    "minpos = optimal_k.index(min(optimal_k))"
   ]
  },
  {
   "cell_type": "code",
   "execution_count": 13,
   "metadata": {},
   "outputs": [
    {
     "data": {
      "text/plain": [
       "8"
      ]
     },
     "execution_count": 13,
     "metadata": {},
     "output_type": "execute_result"
    }
   ],
   "source": [
    "minpos"
   ]
  }
 ],
 "metadata": {
  "kernelspec": {
   "display_name": "Python 3",
   "language": "python",
   "name": "python3"
  },
  "language_info": {
   "codemirror_mode": {
    "name": "ipython",
    "version": 3
   },
   "file_extension": ".py",
   "mimetype": "text/x-python",
   "name": "python",
   "nbconvert_exporter": "python",
   "pygments_lexer": "ipython3",
   "version": "3.6.8"
  }
 },
 "nbformat": 4,
 "nbformat_minor": 2
}
